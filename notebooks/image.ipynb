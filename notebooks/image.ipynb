{
 "cells": [
  {
   "cell_type": "code",
   "execution_count": 172,
   "metadata": {},
   "outputs": [
    {
     "data": {
      "text/plain": [
       "True"
      ]
     },
     "execution_count": 172,
     "metadata": {},
     "output_type": "execute_result"
    }
   ],
   "source": [
    "import google.generativeai as genai\n",
    "import dotenv\n",
    "import os\n",
    "dotenv.load_dotenv()"
   ]
  },
  {
   "cell_type": "code",
   "execution_count": 173,
   "metadata": {},
   "outputs": [],
   "source": [
    "genai.configure(api_key=os.getenv('GEMINI_API_KEY'))\n",
    "model = genai.GenerativeModel('gemini-1.5-flash')"
   ]
  },
  {
   "cell_type": "code",
   "execution_count": 174,
   "metadata": {},
   "outputs": [],
   "source": [
    "def delete_files(documents):\n",
    "    for document_file in documents:\n",
    "        genai.delete_file(document_file.name)\n",
    "        print(f'Deleted file {document_file.uri}')"
   ]
  },
  {
   "cell_type": "code",
   "execution_count": 133,
   "metadata": {},
   "outputs": [
    {
     "name": "stdout",
     "output_type": "stream",
     "text": [
      "Uploaded index\n",
      "Uploaded file 'chapter_1' as: https://generativelanguage.googleapis.com/v1beta/files/35ynckwfh0gr\n",
      "Uploaded file 'chapter_2' as: https://generativelanguage.googleapis.com/v1beta/files/ysdp8wb80wsl\n",
      "Uploaded file 'chapter_3' as: https://generativelanguage.googleapis.com/v1beta/files/b1tvetdr1dse\n",
      "Uploaded file 'chapter_4' as: https://generativelanguage.googleapis.com/v1beta/files/jr5ehwkef7q1\n",
      "Uploaded file 'chapter_5' as: https://generativelanguage.googleapis.com/v1beta/files/d18urp82ddoh\n"
     ]
    }
   ],
   "source": [
    "def upload(path, n):\n",
    "    chapters = []\n",
    "    chapters.append(genai.upload_file(path=f\"{path}/index.pdf\", display_name=\"index\"))\n",
    "    print(\"Uploaded index\")\n",
    "    for i in range(1, n + 1):\n",
    "        chapter_name = f\"chapter_{i}\"\n",
    "        chapters.append(genai.upload_file(path=f\"{path}/{chapter_name}.pdf\", display_name=chapter_name))\n",
    "        print(f\"Uploaded file '{chapter_name}' as: {chapters[-1].uri}\")\n",
    "    return chapters\n",
    "\n",
    "chapters = upload(\"./book\", 5)"
   ]
  },
  {
   "cell_type": "code",
   "execution_count": 134,
   "metadata": {},
   "outputs": [
    {
     "name": "stdout",
     "output_type": "stream",
     "text": [
      "chapter_5, URI: https://generativelanguage.googleapis.com/v1beta/files/d18urp82ddoh\n",
      "chapter_4, URI: https://generativelanguage.googleapis.com/v1beta/files/jr5ehwkef7q1\n",
      "chapter_3, URI: https://generativelanguage.googleapis.com/v1beta/files/b1tvetdr1dse\n",
      "chapter_2, URI: https://generativelanguage.googleapis.com/v1beta/files/ysdp8wb80wsl\n",
      "chapter_1, URI: https://generativelanguage.googleapis.com/v1beta/files/35ynckwfh0gr\n",
      "index, URI: https://generativelanguage.googleapis.com/v1beta/files/aex17c8qrisr\n"
     ]
    }
   ],
   "source": [
    "def view():\n",
    "    # List all files\n",
    "    for file in genai.list_files():\n",
    "        print(f\"{file.display_name}, URI: {file.uri}\")\n",
    "view()"
   ]
  },
  {
   "cell_type": "code",
   "execution_count": 175,
   "metadata": {},
   "outputs": [],
   "source": [
    "def getChapter(prompt):\n",
    "    chat = model.start_chat(\n",
    "        history=[\n",
    "            {\"role\": \"user\", \"parts\": f\"Given a question and index of a book, specify which chapter does the question belong to. If there is any ambiguity, clarify with the user.\"},\n",
    "            {\"role\": 'model', \"parts\": \"Sure, provide me with the question and the index of the book\"},\n",
    "            # {\"role\": 'user', f\"parts\": \"Index: {index}\"},\n",
    "            # {\"role\": 'model', \"parts\": \"Please ask a question, and I will respond with the lesson that the question pertains to.\"},\n",
    "        ]\n",
    "    )\n",
    "    response = chat.send_message([chapters[0], f\"Question: {prompt}\"])\n",
    "    # response = chat.send_message(f\"Question:{prompt}\")\n",
    "    print(\"Usage tokens: {}\\n\".format(response.usage_metadata.total_token_count))\n",
    "    print(response.text)"
   ]
  },
  {
   "cell_type": "code",
   "execution_count": 176,
   "metadata": {},
   "outputs": [
    {
     "name": "stdout",
     "output_type": "stream",
     "text": [
      "Usage tokens: 4151\n",
      "\n",
      "The question belongs to **Chapter 6: Bone Tissue and the Skeletal System** because vitamin D synthesis is a crucial aspect of bone health and development.  \n",
      "\n",
      "It's also possible that this question might belong to **Chapter 5: The Integumentary System**  since vitamin D synthesis happens in the skin. \n",
      "\n",
      "To be sure, can you please specify if the question is focusing more on the bone health aspect or the skin's role in vitamin D production? \n",
      "\n",
      "CPU times: total: 0 ns\n",
      "Wall time: 7.91 s\n"
     ]
    }
   ],
   "source": [
    "%%time\n",
    "getChapter(\"explain vitamin d synthesis\")"
   ]
  },
  {
   "cell_type": "code",
   "execution_count": 161,
   "metadata": {},
   "outputs": [],
   "source": [
    "\n"
   ]
  },
  {
   "cell_type": "code",
   "execution_count": null,
   "metadata": {},
   "outputs": [],
   "source": []
  },
  {
   "cell_type": "code",
   "execution_count": null,
   "metadata": {},
   "outputs": [],
   "source": []
  },
  {
   "cell_type": "code",
   "execution_count": 42,
   "metadata": {},
   "outputs": [
    {
     "name": "stdout",
     "output_type": "stream",
     "text": [
      "Epithelial tissues are nearly completely avascular. For instance, no blood vessels cross the basement membrane to enter the\n",
      "tissue, and nutrients must come by diffusion or absorption from underlying tissues or the surface. Many epithelial tissues are\n",
      "capable of rapidly replacing damaged and dead cells. Sloughing off of damaged or dead cells is a characteristic of surface\n",
      "epithelium and allows our airways and digestive tracts to rapidly replace damaged cells with new cells.\n",
      "\n",
      "The cell membrane consists of two adjacent layers of phospholipids. The lipid tails of one layer face the lipid tails of the\n",
      "other layer, meeting at the interface of the two layers. The phospholipid heads face outward, one layer exposed to the interior\n",
      "of the cell and one layer exposed to the exterior (Figure 3.3). Because the phosphate groups are polar and hydrophilic,\n",
      "they are attracted to water in the intracellular fluid. Intracellular fluid (ICF) is the fluid interior of the cell. The phosphate\n",
      "groups are also attracted to the extracellular fluid. Extracellular fluid (ECF) is the fluid environment outside the enclosure\n",
      "of the cell membrane. Interstitial fluid (IF) is the term given to extracellular fluid not contained within blood vessels.\n",
      "Because the lipid tails are hydrophobic, they meet in the inner region of the membrane, excluding watery intracellular and\n",
      "extracellular fluid from this space. The cell membrane has many proteins, as well as other lipids (such as cholesterol), that\n",
      "are associated with the phospholipid bilayer. An important feature of the membrane is that it remains fluid; the lipids and\n",
      "proteins in the cell membrane are not rigidly locked in place.\n",
      "\n",
      "- **Tight Junctions** (pg. 137): At one end of the spectrum is the tight junction, which separates the cells into apical and basal compartments. An\n",
      "anchoring junction includes several types of cell junctions that help stabilize epithelial tissues. Anchoring junctions are\n",
      "common on the lateral and basal surfaces of cells where they provide strong and flexible connections. There are three types\n",
      "of anchoring junctions: desmosomes, hemidesmosomes, and adherens. Desmosomes occur in patches on the membranes of\n",
      "cells. The patches are structural proteins on the inner surface of the cell’s membrane. The adhesion molecule, cadherin, is\n",
      "embedded in these patches and projects through the cell membrane to link with the cadherin molecules of adjacent cells.\n",
      "These connections are especially important in holding cells together. Hemidesmosomes, which look like half a desmosome,\n",
      "link cells to the extracellular matrix, for example, the basal lamina. While similar in appearance to desmosomes, they\n",
      "include the adhesion proteins called integrins rather than cadherins. Adherens junctions use either cadherins or integrins\n",
      "depending on whether they are linking to other cells or matrix. The junctions are characterized by the presence of the\n",
      "contractile protein actin located on the cytoplasmic surface of the cell membrane. The actin can connect isolated patches or\n",
      "form a belt-like structure inside the cell. These junctions influence the shape and folding of the epithelial tissue.\n",
      "\n",
      "- **Anchoring Junctions** (pg. 137): Anchoring junctions include several types of cell junctions that help stabilize epithelial tissues. Anchoring junctions are\n",
      "common on the lateral and basal surfaces of cells where they provide strong and flexible connections. There are three types\n",
      "of anchoring junctions: desmosomes, hemidesmosomes, and adherens. Desmosomes occur in patches on the membranes of\n",
      "cells. The patches are structural proteins on the inner surface of the cell’s membrane. The adhesion molecule, cadherin, is\n",
      "embedded in these patches and projects through the cell membrane to link with the cadherin molecules of adjacent cells.\n",
      "These connections are especially important in holding cells together. Hemidesmosomes, which look like half a desmosome,\n",
      "link cells to the extracellular matrix, for example, the basal lamina. While similar in appearance to desmosomes, they\n",
      "include the adhesion proteins called integrins rather than cadherins. Adherens junctions use either cadherins or integrins\n",
      "depending on whether they are linking to other cells or matrix. The junctions are characterized by the presence of the\n",
      "contractile protein actin located on the cytoplasmic surface of the cell membrane. The actin can connect isolated patches or\n",
      "form a belt-like structure inside the cell. These junctions influence the shape and folding of the epithelial tissue.\n",
      "\n",
      "- **Gap Junctions** (pg. 138): In contrast with the tight and anchoring junctions, a gap junction forms an intercellular passageway between the\n",
      "membranes of adjacent cells to facilitate the movement of small molecules and ions between the cytoplasm of adjacent\n",
      "cells. These junctions allow electrical and metabolic coupling of adjacent cells, which coordinates function in large groups\n",
      "of cells. \n",
      "\n",
      "This content is available for free at https://cnx.org/content/col11496/1.7.\n",
      "\n"
     ]
    }
   ],
   "source": [
    "# Generate content by prompting the model with the uploaded images and a detailed question.\n",
    "query = \"Explain the different types of cell junctions in detail. Include the page number of the content, and if any related images are present, provide the figure number and description.\"\n",
    "response = model.generate_content([book[0], query])\n",
    "print(response.text)"
   ]
  },
  {
   "cell_type": "code",
   "execution_count": null,
   "metadata": {},
   "outputs": [],
   "source": [
    "tool = {\n",
    "    'function_declarations': [\n",
    "        {\n",
    "            'name': 'describe_with_images',\n",
    "            'description': (\n",
    "                'Provides a brief explanation to the question, checks for images, '\n",
    "                'and retrieves image numbers and descriptions along with the page number of the content.'\n",
    "            ),\n",
    "            'parameters': {\n",
    "                'type_': 'OBJECT',\n",
    "                'properties': {\n",
    "                    'question': {'type_': 'STRING'},\n",
    "                    'contains_image': {'type_': 'BOOLEAN'},\n",
    "                    'image_details': {\n",
    "                        'type_': 'ARRAY',\n",
    "                        'items': {\n",
    "                            'type_': 'OBJECT',\n",
    "                            'properties': {\n",
    "                                'image_number': {'type_': 'NUMBER'},\n",
    "                                'description': {'type_': 'STRING'}\n",
    "                            },\n",
    "                            'required': ['image_number', 'description']\n",
    "                        }\n",
    "                    },\n",
    "                    'page_number': {'type_': 'NUMBER'}\n",
    "                },\n",
    "                'required': ['question', 'contains_image', 'page_number']\n",
    "            }\n",
    "        }\n",
    "    ]\n",
    "}"
   ]
  },
  {
   "cell_type": "code",
   "execution_count": 59,
   "metadata": {},
   "outputs": [
    {
     "data": {
      "text/plain": [
       "function_calling_config {\n",
       "  mode: AUTO\n",
       "  allowed_function_names: \"describe_with_images\"\n",
       "}"
      ]
     },
     "execution_count": 59,
     "metadata": {},
     "output_type": "execute_result"
    }
   ],
   "source": [
    "available_fns = ['describe_with_images']\n",
    "tool_config = tool_config_from_mode(\"auto\", available_fns)\n",
    "tool_config"
   ]
  },
  {
   "cell_type": "code",
   "execution_count": 104,
   "metadata": {},
   "outputs": [
    {
     "name": "stdout",
     "output_type": "stream",
     "text": [
      "Epithelial tissues are sheets of cells that cover exterior surfaces of the body, lines internal cavities and passageways, and forms certain glands. It has a few distinct features. First, epithelial tissues are highly cellular, with little or no extracellular space in between cells. Second, the cells exhibit polarity with differences in structure and function between the exposed or apical facing surface of the cell and the basal surface close to the underlying body structures. Finally, epithelial tissues are nearly completely avascular; this means that no blood vessels cross the basement membrane to enter the tissue, and nutrients must come by diffusion or absorption from underlying tissues or the surface.  \n",
      "\n",
      "Epithelial tissues are classified according to the shape of the cells and number of the cell layers formed. Cell shapes can be squamous (flattened and thin), cuboidal (boxy, as wide as it is tall), or columnar (rectangular, taller than it is wide). The number of cell layers in the tissue can be one—where every cell rests on the basal lamina—which is a simple epithelium, or more than one, which is a stratified epithelium and only the basal layer of cells rests on the basal lamina. Pseudostratified (pseudo- = “false”) describes tissue with a single layer of irregularly shaped cells that give the appearance of more than one layer. Transitional describes a form of specialized stratified epithelium in which the shape of the cells can vary. (Figure 4.6 on page 138). \n",
      "\n",
      "There are five basic types of simple epithelium: simple squamous, simple cuboidal, simple columnar, stratified squamous, and stratified columnar.  There are also a couple of specialized types: pseudostratified columnar and transitional. (Figure 4.8 on page 141)\n",
      "\n",
      "Glands are secretory tissues and organs that are derived from epithelial tissues. Exocrine glands release their products through ducts. Endocrine glands secrete hormones directly into the interstitial fluid and blood stream. (Page 142-143) \n",
      "\n"
     ]
    }
   ],
   "source": [
    "# Generate content by prompting the model with the uploaded images and a detailed question.\n",
    "prompt = \"Explain what are epithelial tissues in detail. Include the page number of the content, and if any related images are present, provide the figure number and description.\"\n",
    "response = model.generate_content([chapter[0], prompt])\n",
    "print(response.text)"
   ]
  },
  {
   "cell_type": "code",
   "execution_count": null,
   "metadata": {},
   "outputs": [],
   "source": []
  }
 ],
 "metadata": {
  "kernelspec": {
   "display_name": "Python 3",
   "language": "python",
   "name": "python3"
  },
  "language_info": {
   "codemirror_mode": {
    "name": "ipython",
    "version": 3
   },
   "file_extension": ".py",
   "mimetype": "text/x-python",
   "name": "python",
   "nbconvert_exporter": "python",
   "pygments_lexer": "ipython3",
   "version": "3.12.2"
  }
 },
 "nbformat": 4,
 "nbformat_minor": 2
}
